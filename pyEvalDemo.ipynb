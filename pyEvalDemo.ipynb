{
 "cells": [
  {
   "cell_type": "code",
   "execution_count": 6,
   "metadata": {
    "collapsed": false
   },
   "outputs": [],
   "source": [
    "%matplotlib inline\n",
    "from refer import REFER\n",
    "import numpy as np\n",
    "import sys\n",
    "import os.path as osp\n",
    "import json"
   ]
  },
  {
   "cell_type": "code",
   "execution_count": 2,
   "metadata": {
    "collapsed": false
   },
   "outputs": [
    {
     "name": "stdout",
     "output_type": "stream",
     "text": [
      "loading dataset refcoco into memory...\n",
      "creating index...\n",
      "index created.\n",
      "DONE (t=9.47s)\n"
     ]
    }
   ],
   "source": [
    "dataset = 'refcoco'\n",
    "splitBy = 'unc'\n",
    "refer = REFER(dataset=dataset, splitBy=splitBy)"
   ]
  },
  {
   "cell_type": "markdown",
   "metadata": {},
   "source": [
    "# Evaluate Refering Expressions by Language Metrics"
   ]
  },
  {
   "cell_type": "code",
   "execution_count": 5,
   "metadata": {
    "collapsed": false
   },
   "outputs": [],
   "source": [
    "sys.path.insert(0, './evaluation')\n",
    "from refEvaluation import RefEvaluation"
   ]
  },
  {
   "cell_type": "code",
   "execution_count": 14,
   "metadata": {
    "collapsed": false
   },
   "outputs": [
    {
     "name": "stdout",
     "output_type": "stream",
     "text": [
      "{u'sent': u'man in black', u'ref_id': 47}\n"
     ]
    }
   ],
   "source": [
    "# Here's our example expression file\n",
    "sample_expr_file = json.load(open('test/sample_expressions_testA.json', 'r'))\n",
    "sample_exprs = sample_expr_file['predictions']\n",
    "print sample_exprs[0]"
   ]
  },
  {
   "cell_type": "code",
   "execution_count": 15,
   "metadata": {
    "collapsed": false
   },
   "outputs": [
    {
     "name": "stdout",
     "output_type": "stream",
     "text": [
      "tokenization...\n",
      "setting up scorers...\n",
      "computing Bleu score...\n",
      "{'reflen': 5356, 'guess': [5009, 3034, 1477, 275], 'testlen': 5009, 'correct': [2576, 580, 112, 2]}\n",
      "ratio: 0.935212845407\n",
      "Bleu_1: 0.480\n",
      "Bleu_2: 0.293\n",
      "Bleu_3: 0.182\n",
      "Bleu_4: 0.080\n",
      "computing METEOR score...\n",
      "METEOR: 0.172\n",
      "computing Rouge score...\n",
      "ROUGE_L: 0.414\n",
      "computing CIDEr score...\n",
      "CIDEr: 0.669\n"
     ]
    }
   ],
   "source": [
    "refEval = RefEvaluation(refer, sample_exprs)\n",
    "refEval.evaluate()"
   ]
  },
  {
   "cell_type": "markdown",
   "metadata": {},
   "source": [
    "# Evaluate Referring Expressions by Duplicate Rate"
   ]
  },
  {
   "cell_type": "code",
   "execution_count": 20,
   "metadata": {
    "collapsed": false
   },
   "outputs": [
    {
     "name": "stdout",
     "output_type": "stream",
     "text": [
      "108/750 (14.40%) images have duplicate predicted sentences.\n"
     ]
    }
   ],
   "source": [
    "# evalue how many images contain duplicate expressions\n",
    "pred_refToSent = {int(it['ref_id']): it['sent'] for it in sample_exprs}\n",
    "pred_imgToSents = {}\n",
    "for ref_id, pred_sent in pred_refToSent.items():\n",
    "    image_id = refer.Refs[ref_id]['image_id']\n",
    "    pred_imgToSents[image_id] = pred_imgToSents.get(image_id, []) + [pred_sent]\n",
    "# count duplicate\n",
    "duplicate = 0\n",
    "for image_id, sents in pred_imgToSents.items():\n",
    "    if len(set(sents)) < len(sents):\n",
    "        duplicate += 1\n",
    "ratio = duplicate*100.0 / len(pred_imgToSents)\n",
    "print '%s/%s (%.2f%%) images have duplicate predicted sentences.' % (duplicate, len(pred_imgToSents), ratio)"
   ]
  },
  {
   "cell_type": "code",
   "execution_count": null,
   "metadata": {
    "collapsed": true
   },
   "outputs": [],
   "source": []
  }
 ],
 "metadata": {
  "kernelspec": {
   "display_name": "Python 2",
   "language": "python",
   "name": "python2"
  },
  "language_info": {
   "codemirror_mode": {
    "name": "ipython",
    "version": 2
   },
   "file_extension": ".py",
   "mimetype": "text/x-python",
   "name": "python",
   "nbconvert_exporter": "python",
   "pygments_lexer": "ipython2",
   "version": "2.7.6"
  }
 },
 "nbformat": 4,
 "nbformat_minor": 0
}
